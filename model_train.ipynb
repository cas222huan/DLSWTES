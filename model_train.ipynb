{
 "cells": [
  {
   "cell_type": "markdown",
   "metadata": {},
   "source": [
    "# train Res-MLP"
   ]
  },
  {
   "cell_type": "code",
   "execution_count": 1,
   "metadata": {},
   "outputs": [],
   "source": [
    "import numpy as np\n",
    "import logging\n",
    "import pickle\n",
    "from datetime import datetime\n",
    "import torch\n",
    "from sklearn.metrics import root_mean_squared_error\n",
    "import matplotlib.pyplot as plt\n",
    "from lib.models import *\n",
    "from lib.utils_dl import *\n",
    "\n",
    "device = torch.device(\"cuda:0\" if torch.cuda.is_available() else \"cpu\")\n",
    "logging.basicConfig(filename='log/resmlp.log', level=logging.INFO, format='%(asctime)s - %(message)s')\n",
    "logger = logging.getLogger()"
   ]
  },
  {
   "cell_type": "code",
   "execution_count": 2,
   "metadata": {},
   "outputs": [
    {
     "data": {
      "text/plain": [
       "\"\\nidx = {}\\nidx['train'], idx['val'], idx['test'] = idx_train, idx_val, idx_test\\npickle.dump(idx, open('result/idx.pkl','wb'))\\n\""
      ]
     },
     "execution_count": 2,
     "metadata": {},
     "output_type": "execute_result"
    }
   ],
   "source": [
    "Lt_simu = np.load('data/simulation_dataset/Lt_simu.npy')\n",
    "Lg_simu = np.load('data/simulation_dataset/Lg_simu.npy')\n",
    "Ld = np.load('data/simulation_dataset/Ld.npy')\n",
    "vzas = np.load('data/simulation_dataset/vzas.npy')\n",
    "tpw = np.load('data/simulation_dataset/tpw.npy')\n",
    "num_atm, num_vza, num_lst, num_emi, num_channel  = Lt_simu.shape\n",
    "\n",
    "Ld_simu = Ld[:,None,None,None,:] * np.ones_like(Lg_simu)\n",
    "tpw_simu = tpw[:,None,None,None,None] * np.ones((num_atm, num_vza, num_lst, num_emi, 1))\n",
    "vzas_simu = vzas[:,:,None,None,None] * np.ones((num_atm, num_vza, num_lst, num_emi, 1))\n",
    "sec_vza = 1 / np.cos(np.deg2rad(vzas_simu))\n",
    "\n",
    "# SW method input\n",
    "dL_45 = (Lt_simu[..., 3] - Lt_simu[..., 4])[..., None]\n",
    "\n",
    "# construct dataset\n",
    "x = np.concatenate([Lt_simu[..., [1,3]], dL_45, sec_vza, tpw_simu], axis=-1) # np.concatenate([Lt_simu[..., [1,3,4]], sec_vza, tpw_simu], axis=-1)\n",
    "y = np.concatenate([Lg_simu[...,[1,3,4]], Ld_simu[...,[1,3,4]]], axis=-1)\n",
    "num_input, num_output = x.shape[-1], y.shape[-1]\n",
    "str_input = 'w_tpw'\n",
    "dataloader_train, dataloader_val, dataloader_test, idx_train, idx_val, idx_test, scaler, bin_edges = build_dataset(x, y, batch_size_train=2048, batch_size_val=65536, n_bins=None)\n",
    "# pickle.dump(scaler, open(f'result/scaler/scaler_3b_wo_tpw.pkl','wb'))\n",
    "# pickle.dump(bin_edges, open(f'result/scaler/bin_edges_{len(bin_edges[0])-1}.pkl', 'wb'))\n",
    "'''\n",
    "idx = {}\n",
    "idx['train'], idx['val'], idx['test'] = idx_train, idx_val, idx_test\n",
    "pickle.dump(idx, open('result/idx.pkl','wb'))\n",
    "'''"
   ]
  },
  {
   "cell_type": "code",
   "execution_count": null,
   "metadata": {},
   "outputs": [],
   "source": [
    "## train model\n",
    "# on different devices with various versions of packages, the optimazation results may be slightly different while the final accuracy is believed to be similar\n",
    "logger.info('='*50)\n",
    "logger.info(f'input:{str_input}')\n",
    "myseed = 0\n",
    "set_seed(myseed)\n",
    "# define model, loss function and optimizer\n",
    "params_model = {'d_in': num_input, 'd_out': num_output//2, 'd_block':128, 'd_hidden':64, 'n_block_l':3, 'n_block_h':2, 'act':'sigmoid', 'skip': True}\n",
    "model = Res_MLP(**params_model).to(device)\n",
    "model.apply(weights_init)\n",
    "\n",
    "save_path = f'model/res_mlp/model_{str_input}_{datetime.now().strftime(\"%Y%m%d%H%M\")}.pt'\n",
    "params_train = {'opt':'adamw', 'lr':1e-3, 'scheduler': 'plateau', 'weight_decay': 1e-2, \n",
    "                'num_epochs':500, 'patience':10, 'w1':5, 'w2':1, 'seed':myseed, 'save_path':save_path}\n",
    "optimizer = get_optimizer(params_train['opt'], model, lr=params_train['lr'], weight_decay=params_train['weight_decay'])\n",
    "loss_function = CustomLoss(w1=params_train['w1'], w2=params_train['w2'])\n",
    "scheduler = get_scheduler(params_train['scheduler'], optimizer, factor=0.1, patience=5, min_lr=1e-5)\n",
    "\n",
    "# log info\n",
    "log_message1 = ''.join([f'{key}={value}, ' for key, value in params_model.items()])\n",
    "log_message2 = ''.join([f'{key}={value}, ' for key, value in params_train.items()])\n",
    "logger.info(log_message1)\n",
    "logger.info(log_message2)\n",
    "\n",
    "train_model(model, dataloader_train, dataloader_val, params_train['num_epochs'], params_train['patience'], optimizer, device, loss_function, scheduler, save_path, logger, params_train['seed'])"
   ]
  },
  {
   "cell_type": "markdown",
   "metadata": {},
   "source": [
    "# ablation experiment"
   ]
  },
  {
   "cell_type": "code",
   "execution_count": 5,
   "metadata": {},
   "outputs": [],
   "source": [
    "# read log file\n",
    "import pandas as pd\n",
    "file = 'log/resmlp.log'\n",
    "with open(file, 'r') as f:\n",
    "    lines = f.readlines()"
   ]
  },
  {
   "cell_type": "code",
   "execution_count": 6,
   "metadata": {},
   "outputs": [
    {
     "name": "stdout",
     "output_type": "stream",
     "text": [
      "ResMLP reaches minumum val loss at epoch 50 with loss 0.3216\n",
      "MLP reaches minumum val loss at epoch 84 with loss 0.3249\n"
     ]
    }
   ],
   "source": [
    "loss_train_all, loss_val_all = [[], []], [[], []]\n",
    "\n",
    "if_read, i = False, -1\n",
    "for line in lines:\n",
    "    # start reading\n",
    "    if 'Epoch [1/500]' in line:\n",
    "        if_read = True\n",
    "        i += 1\n",
    "    \n",
    "    if 'stopping' in line:\n",
    "        if_read = False\n",
    "\n",
    "    if if_read:\n",
    "        line = line.split()\n",
    "        loss_train = float(line[5].split(':')[1].strip(','))\n",
    "        loss_val = float(line[9].split(':')[1].strip(','))\n",
    "        loss_train_all[i].append(loss_train)\n",
    "        loss_val_all[i].append(loss_val)\n",
    "\n",
    "num_1, num_2 = len(loss_train_all[0]), len(loss_train_all[1])\n",
    "\n",
    "print(f'ResMLP reaches minumum val loss at epoch {num_1-10} with loss {loss_val_all[0][num_1-10]}')\n",
    "print(f'MLP reaches minumum val loss at epoch {num_2-10} with loss {loss_val_all[1][num_2-10]}')"
   ]
  },
  {
   "cell_type": "code",
   "execution_count": 9,
   "metadata": {},
   "outputs": [
    {
     "data": {
      "text/plain": [
       "<matplotlib.legend.Legend at 0x1aa1caa9d00>"
      ]
     },
     "execution_count": 9,
     "metadata": {},
     "output_type": "execute_result"
    },
    {
     "data": {
      "image/png": "[encoded data removed]",
      "text/plain": [
       "<Figure size 640x480 with 1 Axes>"
      ]
     },
     "metadata": {},
     "output_type": "display_data"
    }
   ],
   "source": [
    "plt.rcParams['font.family'] = 'Times New Roman'\n",
    "plt.rcParams['font.size'] = 14\n",
    "\n",
    "plt.plot(np.arange(1, num_1+1), loss_train_all[0], color='blue', label='train (ResMLP)')\n",
    "plt.plot(np.arange(1, num_1+1), loss_val_all[0], color='red', label='validation (ResMLP)')\n",
    "plt.plot(np.arange(1, num_2+1), loss_train_all[1], color='blue', linestyle='--', label='train (MLP)')\n",
    "plt.plot(np.arange(1, num_2+1), loss_val_all[1], color='red', linestyle='--', label='validation (MLP)')\n",
    "\n",
    "plt.scatter(num_1, loss_train_all[0][-1], edgecolor='black', facecolor='none', marker='^', label='early stop')\n",
    "plt.scatter(num_2, loss_train_all[1][-1], edgecolor='black', facecolor='none', marker='^')\n",
    "\n",
    "plt.xlim(0, 100)\n",
    "plt.ylim(0.31, 0.43)\n",
    "plt.xlabel('Epoch')\n",
    "plt.ylabel('Loss')\n",
    "plt.legend()\n",
    "\n",
    "# plt.savefig('figs/resmlp_versus_mlp.tif', dpi=300, bbox_inches='tight')"
   ]
  },
  {
   "cell_type": "code",
   "execution_count": null,
   "metadata": {},
   "outputs": [],
   "source": []
  },
  {
   "cell_type": "markdown",
   "metadata": {},
   "source": [
    "# train CatBoost (using Optuna for optimization)"
   ]
  },
  {
   "cell_type": "code",
   "execution_count": 1,
   "metadata": {},
   "outputs": [],
   "source": [
    "import numpy as np\n",
    "import pickle\n",
    "import logging\n",
    "import joblib\n",
    "from catboost import CatBoostRegressor, FeaturesData, Pool\n",
    "import optuna\n",
    "import optuna.visualization as vis\n",
    "from lib.optuna_lab import early_stop_callback\n",
    "from sklearn.metrics import root_mean_squared_error\n",
    "# from optuna.integration import CatBoostPruningCallback\n",
    "\n",
    "logger = logging.getLogger()\n",
    "logger.setLevel(logging.INFO)"
   ]
  },
  {
   "cell_type": "code",
   "execution_count": null,
   "metadata": {},
   "outputs": [],
   "source": [
    "# read data\n",
    "# the role of noise injection is similar to regularization, thus it is not used\n",
    "Lt_simu = np.load('data/simulation_dataset/Lt_simu.npy')\n",
    "Lg_simu = np.load('data/simulation_dataset/Lg_simu.npy')\n",
    "Ld = np.load('data/simulation_dataset/Ld.npy')\n",
    "vzas = np.load('data/simulation_dataset/vzas.npy')\n",
    "tpw = np.load('data/simulation_dataset/tpw.npy')\n",
    "num_atm, num_vza, num_lst, num_emi, num_channel  = Lt_simu.shape\n",
    "\n",
    "Ld_simu = Ld[:,None,None,None,:] * np.ones_like(Lg_simu)\n",
    "tpw_simu = tpw[:,None,None,None,None] * np.ones((num_atm, num_vza, num_lst, num_emi, 1))\n",
    "vzas_simu = vzas[:,:,None,None,None] * np.ones((num_atm, num_vza, num_lst, num_emi, 1))\n",
    "sec_vza = 1 / np.cos(np.deg2rad(vzas_simu))\n",
    "\n",
    "# SW method input\n",
    "dL_45 = (Lt_simu[..., 3] - Lt_simu[..., 4])[..., None]\n",
    "\n",
    "idx = pickle.load(open('result/idx.pkl', 'rb'))"
   ]
  },
  {
   "cell_type": "code",
   "execution_count": null,
   "metadata": {},
   "outputs": [],
   "source": [
    "# construct dataset and split\n",
    "# order of input parameters: L1~L4, dL_45, secVZA, TPW\n",
    "x = np.concatenate([Lt_simu[..., [1,3]], dL_45, sec_vza, tpw_simu], axis=-1)\n",
    "y = np.concatenate([Lg_simu[...,[1,3,4]], Ld_simu[...,[1,3,4]]], axis=-1)\n",
    "str_input = 'w_tpw_wo_noise'\n",
    "num_input, num_output = x.shape[-1], y.shape[-1]\n",
    "\n",
    "x_train, x_val, x_test = x[idx['train']].reshape(-1, num_input), x[idx['val']].reshape(-1, num_input), x[idx['test']].reshape(-1, num_input)\n",
    "y_train, y_val, y_test = y[idx['train']].reshape(-1, num_output), y[idx['val']].reshape(-1, num_output), y[idx['test']].reshape(-1, num_output)\n",
    "\n",
    "# construct pool\n",
    "feature_data_train = FeaturesData(num_feature_data=x_train.astype(np.float32))\n",
    "pool_train = Pool(data=feature_data_train, label=y_train)\n",
    "feature_data_eval = FeaturesData(num_feature_data=x_val.astype(np.float32))\n",
    "pool_eval = Pool(data=feature_data_eval, label=y_val)"
   ]
  },
  {
   "cell_type": "code",
   "execution_count": null,
   "metadata": {},
   "outputs": [],
   "source": [
    "rmse_eval_min = np.Inf\n",
    "\n",
    "# Since user-defined callback is not supported in CatBoost_GPU, we have to comment out the related codes, and no pruning is performed.\n",
    "def objective_cb(trial):\n",
    "    global rmse_eval_min\n",
    "\n",
    "    params = {\n",
    "        # fixed parameters\n",
    "        \"random_seed\": 0,\n",
    "        \"loss_function\": \"MultiRMSE\",\n",
    "        \"eval_metric\": \"MultiRMSE\",\n",
    "        \"od_type\": \"Iter\",\n",
    "        \"task_type\": \"GPU\",\n",
    "        \"devices\": \"0\",\n",
    "        \"allow_writing_files\": False, # do not create catboost_info for log\n",
    "        # search parameters\n",
    "        \"iterations\": trial.suggest_int(\"iterations\", 1000, 2000),\n",
    "        \"learning_rate\": trial.suggest_float(\"learning_rate\", 1e-3, 0.3),\n",
    "        \"depth\": trial.suggest_int(\"depth\", 6, 10),\n",
    "        # \"colsample_bylevel\": trial.suggest_float(\"colsample_bylevel\", 0.2, 1), # cannot be used with GPU\n",
    "        \"bagging_temperature\": trial.suggest_float(\"bagging_temperature\", 0, 10),\n",
    "        \"l2_leaf_reg\": trial.suggest_float(\"l2_leaf_reg\", 0, 10),\n",
    "        \"random_strength\": trial.suggest_float(\"random_strength\", 0, 10),\n",
    "    }\n",
    "\n",
    "    # fit model\n",
    "    model = CatBoostRegressor(**params)\n",
    "    # pruning_callback = CatBoostPruningCallback(trial, \"Accuracy\")\n",
    "    model.fit(pool_train, verbose=False, plot=False, early_stopping_rounds=10, eval_set=pool_eval) # , callbacks=[pruning_callback]\n",
    "\n",
    "    # evoke pruning manually\n",
    "    # pruning_callback.check_pruned()\n",
    "\n",
    "    # get accuracy metric\n",
    "    rmse_eval_min_trial = model.get_best_score()[\"validation\"][params[\"eval_metric\"]]\n",
    "\n",
    "    # save best model\n",
    "    if rmse_eval_min_trial<rmse_eval_min:\n",
    "        rmse_eval_min = rmse_eval_min_trial\n",
    "        model.save_model(f\"model/catboost/model_{str_input}.cbm\")\n",
    "    \n",
    "    return rmse_eval_min_trial"
   ]
  },
  {
   "cell_type": "code",
   "execution_count": null,
   "metadata": {},
   "outputs": [
    {
     "name": "stdout",
     "output_type": "stream",
     "text": [
      "Early stop at 22th trial\n"
     ]
    }
   ],
   "source": [
    "fh = logging.FileHandler(\"log/catboost.log\", mode=\"a\")\n",
    "logger.addHandler(fh)\n",
    "logger.info('=' * 100)\n",
    "optuna.logging.enable_propagation()\n",
    "optuna.logging.disable_default_handler() \n",
    "\n",
    "SEED = 42\n",
    "sampler = optuna.samplers.TPESampler(seed=SEED) # Tree-structured Parzen Estimator algorithm\n",
    "# pruner = optuna.pruners.HyperbandPruner # suitable for TPESampler\n",
    "study = optuna.create_study(sampler=sampler, direction='minimize')\n",
    "early_stop = early_stop_callback(threshold=10)\n",
    "\n",
    "logger.info(f\"Start optimization, input: {str_input}, seed: {SEED}\")\n",
    "study.optimize(objective_cb, n_trials=30, callbacks=[early_stop])\n",
    "logger.info(f\"Best RMSE:{study.best_value:3f}\")\n",
    "logger.info(f\"Best params:{study.best_params}\")\n",
    "\n",
    "joblib.dump(study, f\"model/catboost/study_{str_input}.pkl\")\n",
    "\n",
    "logger.removeHandler(fh)"
   ]
  },
  {
   "cell_type": "code",
   "execution_count": null,
   "metadata": {},
   "outputs": [
    {
     "data": {
      "application/vnd.plotly.v1+json": {
       "config": {
        "plotlyServerURL": "https://plot.ly"
       },
       "data": [
        {
         "mode": "markers",
         "name": "Objective Value",
         "type": "scatter",
         "x": [
          0,
          1,
          2,
          3,
          4,
          5,
          6,
          7,
          8,
          9,
          10,
          11,
          12,
          13,
          14,
          15,
          16,
          17,
          18,
          19,
          20,
          21,
          22,
          23,
          24,
          25,
          26,
          27,
          28,
          29
         ],
         "y": [
          0.5680355129562731,
          0.5749834722802352,
          0.5690030564845218,
          0.5605614497468444,
          0.5711227919904592,
          0.5981823522319599,
          0.5720609095738042,
          0.5776466901614198,
          0.5778854445881844,
          0.5613551596883991,
          0.5589360937555877,
          0.5589331176239557,
          0.5584583595191956,
          0.5610833484251113,
          0.5606384344539695,
          0.5612882894213013,
          0.560304620216143,
          0.5579902363829176,
          0.5588928556193036,
          0.5581141619447764,
          0.5606346706366437,
          0.5574946730804573,
          0.558149899282886,
          0.5579558690756556,
          0.5574293844121794,
          0.5592009060343833,
          0.5576251446199018,
          0.5587005721240443,
          0.5597225598271847,
          0.5656003040818885
         ]
        },
        {
         "mode": "lines",
         "name": "Best Value",
         "type": "scatter",
         "x": [
          0,
          1,
          2,
          3,
          4,
          5,
          6,
          7,
          8,
          9,
          10,
          11,
          12,
          13,
          14,
          15,
          16,
          17,
          18,
          19,
          20,
          21,
          22,
          23,
          24,
          25,
          26,
          27,
          28,
          29
         ],
         "y": [
          0.5680355129562731,
          0.5680355129562731,
          0.5680355129562731,
          0.5605614497468444,
          0.5605614497468444,
          0.5605614497468444,
          0.5605614497468444,
          0.5605614497468444,
          0.5605614497468444,
          0.5605614497468444,
          0.5589360937555877,
          0.5589331176239557,
          0.5584583595191956,
          0.5584583595191956,
          0.5584583595191956,
          0.5584583595191956,
          0.5584583595191956,
          0.5579902363829176,
          0.5579902363829176,
          0.5579902363829176,
          0.5579902363829176,
          0.5574946730804573,
          0.5574946730804573,
          0.5574946730804573,
          0.5574293844121794,
          0.5574293844121794,
          0.5574293844121794,
          0.5574293844121794,
          0.5574293844121794,
          0.5574293844121794
         ]
        },
        {
         "marker": {
          "color": "#cccccc"
         },
         "mode": "markers",
         "name": "Infeasible Trial",
         "showlegend": false,
         "type": "scatter",
         "x": [],
         "y": []
        }
       ],
       "layout": {
        "template": {
         "data": {
          "bar": [
           {
            "error_x": {
             "color": "#2a3f5f"
            },
            "error_y": {
             "color": "#2a3f5f"
            },
            "marker": {
             "line": {
              "color": "#E5ECF6",
              "width": 0.5
             },
             "pattern": {
              "fillmode": "overlay",
              "size": 10,
              "solidity": 0.2
             }
            },
            "type": "bar"
           }
          ],
          "barpolar": [
           {
            "marker": {
             "line": {
              "color": "#E5ECF6",
              "width": 0.5
             },
             "pattern": {
              "fillmode": "overlay",
              "size": 10,
              "solidity": 0.2
             }
            },
            "type": "barpolar"
           }
          ],
          "carpet": [
           {
            "aaxis": {
             "endlinecolor": "#2a3f5f",
             "gridcolor": "white",
             "linecolor": "white",
             "minorgridcolor": "white",
             "startlinecolor": "#2a3f5f"
            },
            "baxis": {
             "endlinecolor": "#2a3f5f",
             "gridcolor": "white",
             "linecolor": "white",
             "minorgridcolor": "white",
             "startlinecolor": "#2a3f5f"
            },
            "type": "carpet"
           }
          ],
          "choropleth": [
           {
            "colorbar": {
             "outlinewidth": 0,
             "ticks": ""
            },
            "type": "choropleth"
           }
          ],
          "contour": [
           {
            "colorbar": {
             "outlinewidth": 0,
             "ticks": ""
            },
            "colorscale": [
             [
              0,
              "#0d0887"
             ],
             [
              0.1111111111111111,
              "#46039f"
             ],
             [
              0.2222222222222222,
              "#7201a8"
             ],
             [
              0.3333333333333333,
              "#9c179e"
             ],
             [
              0.4444444444444444,
              "#bd3786"
             ],
             [
              0.5555555555555556,
              "#d8576b"
             ],
             [
              0.6666666666666666,
              "#ed7953"
             ],
             [
              0.7777777777777778,
              "#fb9f3a"
             ],
             [
              0.8888888888888888,
              "#fdca26"
             ],
             [
              1,
              "#f0f921"
             ]
            ],
            "type": "contour"
           }
          ],
          "contourcarpet": [
           {
            "colorbar": {
             "outlinewidth": 0,
             "ticks": ""
            },
            "type": "contourcarpet"
           }
          ],
          "heatmap": [
           {
            "colorbar": {
             "outlinewidth": 0,
             "ticks": ""
            },
            "colorscale": [
             [
              0,
              "#0d0887"
             ],
             [
              0.1111111111111111,
              "#46039f"
             ],
             [
              0.2222222222222222,
              "#7201a8"
             ],
             [
              0.3333333333333333,
              "#9c179e"
             ],
             [
              0.4444444444444444,
              "#bd3786"
             ],
             [
              0.5555555555555556,
              "#d8576b"
             ],
             [
              0.6666666666666666,
              "#ed7953"
             ],
             [
              0.7777777777777778,
              "#fb9f3a"
             ],
             [
              0.8888888888888888,
              "#fdca26"
             ],
             [
              1,
              "#f0f921"
             ]
            ],
            "type": "heatmap"
           }
          ],
          "heatmapgl": [
           {
            "colorbar": {
             "outlinewidth": 0,
             "ticks": ""
            },
            "colorscale": [
             [
              0,
              "#0d0887"
             ],
             [
              0.1111111111111111,
              "#46039f"
             ],
             [
              0.2222222222222222,
              "#7201a8"
             ],
             [
              0.3333333333333333,
              "#9c179e"
             ],
             [
              0.4444444444444444,
              "#bd3786"
             ],
             [
              0.5555555555555556,
              "#d8576b"
             ],
             [
              0.6666666666666666,
              "#ed7953"
             ],
             [
              0.7777777777777778,
              "#fb9f3a"
             ],
             [
              0.8888888888888888,
              "#fdca26"
             ],
             [
              1,
              "#f0f921"
             ]
            ],
            "type": "heatmapgl"
           }
          ],
          "histogram": [
           {
            "marker": {
             "pattern": {
              "fillmode": "overlay",
              "size": 10,
              "solidity": 0.2
             }
            },
            "type": "histogram"
           }
          ],
          "histogram2d": [
           {
            "colorbar": {
             "outlinewidth": 0,
             "ticks": ""
            },
            "colorscale": [
             [
              0,
              "#0d0887"
             ],
             [
              0.1111111111111111,
              "#46039f"
             ],
             [
              0.2222222222222222,
              "#7201a8"
             ],
             [
              0.3333333333333333,
              "#9c179e"
             ],
             [
              0.4444444444444444,
              "#bd3786"
             ],
             [
              0.5555555555555556,
              "#d8576b"
             ],
             [
              0.6666666666666666,
              "#ed7953"
             ],
             [
              0.7777777777777778,
              "#fb9f3a"
             ],
             [
              0.8888888888888888,
              "#fdca26"
             ],
             [
              1,
              "#f0f921"
             ]
            ],
            "type": "histogram2d"
           }
          ],
          "histogram2dcontour": [
           {
            "colorbar": {
             "outlinewidth": 0,
             "ticks": ""
            },
            "colorscale": [
             [
              0,
              "#0d0887"
             ],
             [
              0.1111111111111111,
              "#46039f"
             ],
             [
              0.2222222222222222,
              "#7201a8"
             ],
             [
              0.3333333333333333,
              "#9c179e"
             ],
             [
              0.4444444444444444,
              "#bd3786"
             ],
             [
              0.5555555555555556,
              "#d8576b"
             ],
             [
              0.6666666666666666,
              "#ed7953"
             ],
             [
              0.7777777777777778,
              "#fb9f3a"
             ],
             [
              0.8888888888888888,
              "#fdca26"
             ],
             [
              1,
              "#f0f921"
             ]
            ],
            "type": "histogram2dcontour"
           }
          ],
          "mesh3d": [
           {
            "colorbar": {
             "outlinewidth": 0,
             "ticks": ""
            },
            "type": "mesh3d"
           }
          ],
          "parcoords": [
           {
            "line": {
             "colorbar": {
              "outlinewidth": 0,
              "ticks": ""
             }
            },
            "type": "parcoords"
           }
          ],
          "pie": [
           {
            "automargin": true,
            "type": "pie"
           }
          ],
          "scatter": [
           {
            "fillpattern": {
             "fillmode": "overlay",
             "size": 10,
             "solidity": 0.2
            },
            "type": "scatter"
           }
          ],
          "scatter3d": [
           {
            "line": {
             "colorbar": {
              "outlinewidth": 0,
              "ticks": ""
             }
            },
            "marker": {
             "colorbar": {
              "outlinewidth": 0,
              "ticks": ""
             }
            },
            "type": "scatter3d"
           }
          ],
          "scattercarpet": [
           {
            "marker": {
             "colorbar": {
              "outlinewidth": 0,
              "ticks": ""
             }
            },
            "type": "scattercarpet"
           }
          ],
          "scattergeo": [
           {
            "marker": {
             "colorbar": {
              "outlinewidth": 0,
              "ticks": ""
             }
            },
            "type": "scattergeo"
           }
          ],
          "scattergl": [
           {
            "marker": {
             "colorbar": {
              "outlinewidth": 0,
              "ticks": ""
             }
            },
            "type": "scattergl"
           }
          ],
          "scattermapbox": [
           {
            "marker": {
             "colorbar": {
              "outlinewidth": 0,
              "ticks": ""
             }
            },
            "type": "scattermapbox"
           }
          ],
          "scatterpolar": [
           {
            "marker": {
             "colorbar": {
              "outlinewidth": 0,
              "ticks": ""
             }
            },
            "type": "scatterpolar"
           }
          ],
          "scatterpolargl": [
           {
            "marker": {
             "colorbar": {
              "outlinewidth": 0,
              "ticks": ""
             }
            },
            "type": "scatterpolargl"
           }
          ],
          "scatterternary": [
           {
            "marker": {
             "colorbar": {
              "outlinewidth": 0,
              "ticks": ""
             }
            },
            "type": "scatterternary"
           }
          ],
          "surface": [
           {
            "colorbar": {
             "outlinewidth": 0,
             "ticks": ""
            },
            "colorscale": [
             [
              0,
              "#0d0887"
             ],
             [
              0.1111111111111111,
              "#46039f"
             ],
             [
              0.2222222222222222,
              "#7201a8"
             ],
             [
              0.3333333333333333,
              "#9c179e"
             ],
             [
              0.4444444444444444,
              "#bd3786"
             ],
             [
              0.5555555555555556,
              "#d8576b"
             ],
             [
              0.6666666666666666,
              "#ed7953"
             ],
             [
              0.7777777777777778,
              "#fb9f3a"
             ],
             [
              0.8888888888888888,
              "#fdca26"
             ],
             [
              1,
              "#f0f921"
             ]
            ],
            "type": "surface"
           }
          ],
          "table": [
           {
            "cells": {
             "fill": {
              "color": "#EBF0F8"
             },
             "line": {
              "color": "white"
             }
            },
            "header": {
             "fill": {
              "color": "#C8D4E3"
             },
             "line": {
              "color": "white"
             }
            },
            "type": "table"
           }
          ]
         },
         "layout": {
          "annotationdefaults": {
           "arrowcolor": "#2a3f5f",
           "arrowhead": 0,
           "arrowwidth": 1
          },
          "autotypenumbers": "strict",
          "coloraxis": {
           "colorbar": {
            "outlinewidth": 0,
            "ticks": ""
           }
          },
          "colorscale": {
           "diverging": [
            [
             0,
             "#8e0152"
            ],
            [
             0.1,
             "#c51b7d"
            ],
            [
             0.2,
             "#de77ae"
            ],
            [
             0.3,
             "#f1b6da"
            ],
            [
             0.4,
             "#fde0ef"
            ],
            [
             0.5,
             "#f7f7f7"
            ],
            [
             0.6,
             "#e6f5d0"
            ],
            [
             0.7,
             "#b8e186"
            ],
            [
             0.8,
             "#7fbc41"
            ],
            [
             0.9,
             "#4d9221"
            ],
            [
             1,
             "#276419"
            ]
           ],
           "sequential": [
            [
             0,
             "#0d0887"
            ],
            [
             0.1111111111111111,
             "#46039f"
            ],
            [
             0.2222222222222222,
             "#7201a8"
            ],
            [
             0.3333333333333333,
             "#9c179e"
            ],
            [
             0.4444444444444444,
             "#bd3786"
            ],
            [
             0.5555555555555556,
             "#d8576b"
            ],
            [
             0.6666666666666666,
             "#ed7953"
            ],
            [
             0.7777777777777778,
             "#fb9f3a"
            ],
            [
             0.8888888888888888,
             "#fdca26"
            ],
            [
             1,
             "#f0f921"
            ]
           ],
           "sequentialminus": [
            [
             0,
             "#0d0887"
            ],
            [
             0.1111111111111111,
             "#46039f"
            ],
            [
             0.2222222222222222,
             "#7201a8"
            ],
            [
             0.3333333333333333,
             "#9c179e"
            ],
            [
             0.4444444444444444,
             "#bd3786"
            ],
            [
             0.5555555555555556,
             "#d8576b"
            ],
            [
             0.6666666666666666,
             "#ed7953"
            ],
            [
             0.7777777777777778,
             "#fb9f3a"
            ],
            [
             0.8888888888888888,
             "#fdca26"
            ],
            [
             1,
             "#f0f921"
            ]
           ]
          },
          "colorway": [
           "#636efa",
           "#EF553B",
           "#00cc96",
           "#ab63fa",
           "#FFA15A",
           "#19d3f3",
           "#FF6692",
           "#B6E880",
           "#FF97FF",
           "#FECB52"
          ],
          "font": {
           "color": "#2a3f5f"
          },
          "geo": {
           "bgcolor": "white",
           "lakecolor": "white",
           "landcolor": "#E5ECF6",
           "showlakes": true,
           "showland": true,
           "subunitcolor": "white"
          },
          "hoverlabel": {
           "align": "left"
          },
          "hovermode": "closest",
          "mapbox": {
           "style": "light"
          },
          "paper_bgcolor": "white",
          "plot_bgcolor": "#E5ECF6",
          "polar": {
           "angularaxis": {
            "gridcolor": "white",
            "linecolor": "white",
            "ticks": ""
           },
           "bgcolor": "#E5ECF6",
           "radialaxis": {
            "gridcolor": "white",
            "linecolor": "white",
            "ticks": ""
           }
          },
          "scene": {
           "xaxis": {
            "backgroundcolor": "#E5ECF6",
            "gridcolor": "white",
            "gridwidth": 2,
            "linecolor": "white",
            "showbackground": true,
            "ticks": "",
            "zerolinecolor": "white"
           },
           "yaxis": {
            "backgroundcolor": "#E5ECF6",
            "gridcolor": "white",
            "gridwidth": 2,
            "linecolor": "white",
            "showbackground": true,
            "ticks": "",
            "zerolinecolor": "white"
           },
           "zaxis": {
            "backgroundcolor": "#E5ECF6",
            "gridcolor": "white",
            "gridwidth": 2,
            "linecolor": "white",
            "showbackground": true,
            "ticks": "",
            "zerolinecolor": "white"
           }
          },
          "shapedefaults": {
           "line": {
            "color": "#2a3f5f"
           }
          },
          "ternary": {
           "aaxis": {
            "gridcolor": "white",
            "linecolor": "white",
            "ticks": ""
           },
           "baxis": {
            "gridcolor": "white",
            "linecolor": "white",
            "ticks": ""
           },
           "bgcolor": "#E5ECF6",
           "caxis": {
            "gridcolor": "white",
            "linecolor": "white",
            "ticks": ""
           }
          },
          "title": {
           "x": 0.05
          },
          "xaxis": {
           "automargin": true,
           "gridcolor": "white",
           "linecolor": "white",
           "ticks": "",
           "title": {
            "standoff": 15
           },
           "zerolinecolor": "white",
           "zerolinewidth": 2
          },
          "yaxis": {
           "automargin": true,
           "gridcolor": "white",
           "linecolor": "white",
           "ticks": "",
           "title": {
            "standoff": 15
           },
           "zerolinecolor": "white",
           "zerolinewidth": 2
          }
         }
        },
        "title": {
         "text": "Optimization History Plot"
        },
        "xaxis": {
         "title": {
          "text": "Trial"
         }
        },
        "yaxis": {
         "title": {
          "text": "Objective Value"
         }
        }
       }
      }
     },
     "metadata": {},
     "output_type": "display_data"
    }
   ],
   "source": [
    "# history of optimization\n",
    "# study = joblib.load('study.pkl')\n",
    "vis.plot_optimization_history(study)\n",
    "\n",
    "# visualize optimization process\n",
    "# vis.plot_parallel_coordinate(study)\n",
    "\n",
    "# importance of hyperparameters\n",
    "# vis.plot_param_importances(study)"
   ]
  }
 ],
 "metadata": {
  "kernelspec": {
   "display_name": "deep_learning",
   "language": "python",
   "name": "python3"
  },
  "language_info": {
   "codemirror_mode": {
    "name": "ipython",
    "version": 3
   },
   "file_extension": ".py",
   "mimetype": "text/x-python",
   "name": "python",
   "nbconvert_exporter": "python",
   "pygments_lexer": "ipython3",
   "version": "3.10.13"
  }
 },
 "nbformat": 4,
 "nbformat_minor": 2
}

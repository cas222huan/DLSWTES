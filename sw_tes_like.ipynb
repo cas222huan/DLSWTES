{
 "cells": [
  {
   "cell_type": "markdown",
   "metadata": {},
   "source": [
    "Simulation results (calibrate coefficients and run TES) of two SW-TES like methods  \n",
    "The evaluation results are plotted in Matlab (density scatter)"
   ]
  },
  {
   "cell_type": "code",
   "execution_count": 1,
   "metadata": {},
   "outputs": [],
   "source": [
    "import numpy as np\n",
    "import pickle\n",
    "from tqdm import tqdm, trange\n",
    "from sklearn.linear_model import LinearRegression\n",
    "from sklearn.metrics import root_mean_squared_error\n",
    "from matplotlib import pyplot as plt\n",
    "from scipy.io import savemat\n",
    "from lib.tes import *\n",
    "\n",
    "plt.rcParams['font.family'] = 'Times New Roman'\n",
    "plt.rcParams['font.size'] = 12\n",
    "\n",
    "tes_calculator = TES_calculator_vec(sensor='ecostress', n_bands=3)\n",
    "swdtes_calculator = SWDTES_calculator_vec()\n",
    "lamda_c = swdtes_calculator.lamda_c"
   ]
  },
  {
   "cell_type": "markdown",
   "metadata": {},
   "source": [
    "# SW-TES (Zheng et al., 2019, 2022)  \n",
    "## Calibrate coefficients"
   ]
  },
  {
   "cell_type": "code",
   "execution_count": 2,
   "metadata": {},
   "outputs": [],
   "source": [
    "## load simulation dataset\n",
    "Lt_simu = np.load('data/simulation_dataset/Lt_simu.npy')[...,[1,3,4]]\n",
    "Lg_simu = np.load('data/simulation_dataset/Lg_simu.npy')[...,[1,3,4]]\n",
    "num_atm, num_vza, num_lst, num_emi, num_channel  = Lt_simu.shape\n",
    "\n",
    "# convert radiance to brightness temperature\n",
    "Tg_simu = Inverse_Planck_law(Lg_simu, lamda_c)\n",
    "Tt_simu = Inverse_Planck_law(Lt_simu, lamda_c)\n",
    "\n",
    "idx = pickle.load(open('data/simulation_dataset/idx.pkl', 'rb'))\n",
    "idx_train, idx_val, idx_test = idx['train'], idx['val'], idx['test']\n",
    "\n",
    "Tt_train, Tt_test = Tt_simu[idx_train].reshape(-1, 3), Tt_simu[idx_test].reshape(-1, 3)\n",
    "Tg_train, Tg_test = Tg_simu[idx_train].reshape(-1, 3), Tg_simu[idx_test].reshape(-1, 3)"
   ]
  },
  {
   "cell_type": "code",
   "execution_count": 3,
   "metadata": {},
   "outputs": [
    {
     "name": "stderr",
     "output_type": "stream",
     "text": [
      "100%|██████████| 3/3 [00:05<00:00,  1.75s/it]\n"
     ]
    }
   ],
   "source": [
    "# find the best combination of channels and calibrate the coefficients\n",
    "def regress_coefs(x, y, num_channel=3):\n",
    "    model = LinearRegression()\n",
    "    rmse_Tg = np.ones((num_channel, num_channel)) * np.Inf\n",
    "    slopes = np.zeros((num_channel, num_channel, 3))\n",
    "    intercepts = np.zeros((num_channel, num_channel))\n",
    "    for i in trange(num_channel):\n",
    "        yi = y[:, i]\n",
    "        xi = x[:, i]\n",
    "        for j in range(num_channel):\n",
    "            if i==j:\n",
    "                continue\n",
    "            xj = x[:, j]\n",
    "            dx_ij = xi - xj\n",
    "            dx_ij_2 = dx_ij**2\n",
    "            inputs_ij = np.concatenate((xi[:,None], dx_ij[:,None], dx_ij_2[:,None]), axis=1)\n",
    "\n",
    "            model.fit(inputs_ij, yi)\n",
    "            yi_prd = model.predict(inputs_ij)\n",
    "            rmse_Tg[i, j] = root_mean_squared_error(yi, yi_prd)\n",
    "\n",
    "            slopes[i, j, :] = model.coef_\n",
    "            intercepts[i, j] = model.intercept_\n",
    "    return rmse_Tg, slopes, intercepts\n",
    "\n",
    "rmse_Tg, slopes, intercepts = regress_coefs(Tt_train, Tg_train, num_channel=3)\n",
    "idx_i = np.arange(3)\n",
    "idx_j = np.argmin(rmse_Tg, axis=1)\n",
    "\n",
    "slopes_opt = slopes[idx_i, idx_j]\n",
    "intercepts_opt = intercepts[idx_i, idx_j]\n",
    "coefs_opt = np.concatenate((intercepts_opt[:,None], slopes_opt), axis=1)\n",
    "# np.save('result/sw_tes/coefs_sw_tes.npy', coefs_opt.astype(np.float32))"
   ]
  },
  {
   "cell_type": "markdown",
   "metadata": {},
   "source": [
    "## Estimate Lg and Ld on the test set"
   ]
  },
  {
   "cell_type": "code",
   "execution_count": 31,
   "metadata": {},
   "outputs": [
    {
     "name": "stdout",
     "output_type": "stream",
     "text": [
      "rmse_Tg: [1.53492566 1.25432876 2.14442206]\n",
      "rmse_Lg: [0.29093686 0.21235156 0.28033942]\n"
     ]
    }
   ],
   "source": [
    "# validate on the test set\n",
    "# note: the inputs of SW-TES and SWDTES are not added with noise, but the performance is similar\n",
    "coefs = np.load('result/sw_tes/coefs_sw_tes.npy')\n",
    "Tt_b2_test, Tt_b4_test, Tt_b5_test = Tt_test[:,0], Tt_test[:,1], Tt_test[:,2]\n",
    "Tg_b2_test, Tg_b4_test, Tg_b5_test = Tg_test[:,0], Tg_test[:,1], Tg_test[:,2]\n",
    "\n",
    "d_Tt_b2_b5 = Tt_b2_test - Tt_b5_test\n",
    "d_Tt_b4_b5 = Tt_b4_test - Tt_b5_test\n",
    "d_Tt_b5_b4 = Tt_b5_test - Tt_b4_test\n",
    "\n",
    "X_b2_test = np.concatenate((np.ones_like(Tt_b2_test[:,None]), Tt_b2_test[:,None], d_Tt_b2_b5[:,None], d_Tt_b2_b5[:,None]**2), axis=1)\n",
    "X_b4_test = np.concatenate((np.ones_like(Tt_b4_test[:,None]), Tt_b4_test[:,None], d_Tt_b4_b5[:,None], d_Tt_b4_b5[:,None]**2), axis=1)\n",
    "X_b5_test = np.concatenate((np.ones_like(Tt_b4_test[:,None]), Tt_b5_test[:,None], d_Tt_b5_b4[:,None], d_Tt_b5_b4[:,None]**2), axis=1)\n",
    "\n",
    "Tg_test_prd = np.zeros((len(Tt_b2_test), 3))\n",
    "Tg_test_prd[:,0] = X_b2_test @ coefs[0]\n",
    "Tg_test_prd[:,1] = X_b4_test @ coefs[1]\n",
    "Tg_test_prd[:,2] = X_b5_test @ coefs[2]\n",
    "rmse_Tg = root_mean_squared_error(Tg_test_prd, Tg_test, multioutput='raw_values')\n",
    "print(f'rmse_Tg: {rmse_Tg}')\n",
    "\n",
    "Lg_test_prd = Planck_law(Tg_test_prd, lamda_c)\n",
    "Lg_test_true = Planck_law(Tg_test, lamda_c)\n",
    "rmse_Lg = root_mean_squared_error(Lg_test_prd, Lg_test_true, multioutput='raw_values')\n",
    "print(f'rmse_Lg: {rmse_Lg}')\n",
    "\n",
    "# np.save('result/sw_tes/Lg_sw_tes.npy', Lg_test_prd.astype(np.float32))"
   ]
  },
  {
   "cell_type": "code",
   "execution_count": 32,
   "metadata": {},
   "outputs": [
    {
     "name": "stdout",
     "output_type": "stream",
     "text": [
      "rmse_Ld: [1.8253177 2.2408202 2.5627003]\n"
     ]
    }
   ],
   "source": [
    "Ld_modtran = np.load('result/sw_tes/Ld_modtran.npy')\n",
    "Ld_LUT = np.load('result/sw_tes/Ld_LUT.npy')\n",
    "Ld_true = np.load('data/simulation_dataset/Ld.npy')[..., [1,3,4]]\n",
    "lat_month_profile = np.load('data/profile_info/lat_month_clear.npy')\n",
    "lat, month = lat_month_profile[:,0], lat_month_profile[:,1]\n",
    "\n",
    "'''\n",
    "# T:0, MLS:1, MLW:2, SAS:3, SAW:4\n",
    "Ld_LUT = np.array([[4, 4, 4, 2, 2, 4], # 80\n",
    "            [4, 4, 2, 2, 2, 4], # 70\n",
    "            [2, 2, 2, 3, 3, 2], # 60\n",
    "            [2, 2, 3, 3, 3, 3], # 50\n",
    "            [3, 3, 3, 1, 1, 3], # 40\n",
    "            [1, 1, 1, 0, 0, 1], # 30\n",
    "            [0, 0, 0, 0, 0, 0], # 20\n",
    "            [0, 0, 0, 0, 0, 0], # 10\n",
    "            [0, 0, 0, 0, 0, 0], # 0\n",
    "            [0, 0, 0, 0, 0, 0], # -10\n",
    "            [0, 0, 0, 1, 1, 0], # -20\n",
    "            [1, 1, 1, 1, 1, 1], # -30\n",
    "            [3, 3, 3, 3, 3, 3], # -40\n",
    "            [3, 3, 3, 2, 2, 3], # -50\n",
    "            [2, 2, 2, 2, 2, 2], # -60\n",
    "            [2, 2, 2, 2, 2, 2], # -70\n",
    "            [2, 2, 2, 4, 2, 2], # -80\n",
    "            ])\n",
    "'''\n",
    "\n",
    "row_in_lut = np.round((80-lat)/10).astype(int)\n",
    "row_in_lut[row_in_lut==-1] = 0\n",
    "row_in_lut[row_in_lut==17] = 16\n",
    "col_in_lut = ((month-1) // 2).astype(int)\n",
    "idx = Ld_LUT[row_in_lut, col_in_lut]\n",
    "Ld_lut = Ld_modtran[idx][:,[1,3,4]]\n",
    "rmse_Ld = root_mean_squared_error(Ld_lut, Ld_true, multioutput='raw_values')\n",
    "print(f'rmse_Ld: {rmse_Ld}')\n",
    "\n",
    "# np.save('result/sw_tes/Ld_sw_tes.npy', Ld_lut.astype(np.float32))\n",
    "# savemat('matlab_plot/data/rad_sw_tes.mat', {'Lg_true': Lg_test_true.astype(np.float32), 'Lg_prd': Lg_test_prd.astype(np.float32), 'Ld_true': Ld_true.astype(np.float32), 'Ld_prd': Ld_lut.astype(np.float32)})"
   ]
  },
  {
   "cell_type": "markdown",
   "metadata": {},
   "source": [
    "## Run TES"
   ]
  },
  {
   "cell_type": "code",
   "execution_count": 15,
   "metadata": {},
   "outputs": [],
   "source": [
    "lst_true = np.load('result/tes/lst_true.npy') # true LST on the simulated test set\n",
    "idx_test = pickle.load(open('data/simulation_dataset/idx.pkl', 'rb'))['test']\n",
    "Lg_true = np.load('data/simulation_dataset/Lg_simu.npy')[idx_test][..., [1,3,4]]\n",
    "Ld_true = np.load('data/simulation_dataset/Ld.npy')[idx_test][..., [1,3,4]]\n",
    "Ld_true = Ld_true[:,None,None,None,:] * np.ones_like(Lg_true)\n",
    "Lg_sw_tes = np.load('result/sw_tes/Lg_sw_tes.npy')\n",
    "Ld_sw_tes = np.load('result/sw_tes/Ld_sw_tes.npy')[idx_test]\n",
    "Ld_sw_tes = Ld_sw_tes[:,None,None,None,:] * np.ones_like(Lg_true)\n",
    "Lg_true, Ld_true, Ld_sw_tes = Lg_true.reshape(-1, 3), Ld_true.reshape(-1, 3), Ld_sw_tes.reshape(-1, 3)\n",
    "\n",
    "# reshape the input radiances to meet the requirements of TES codes\n",
    "Lg_true, Ld_true = Lg_true.swapaxes(0,1)[:,:,np.newaxis], Ld_true.swapaxes(0,1)[:,:,np.newaxis]\n",
    "Lg_sw_tes, Ld_sw_tes = Lg_sw_tes.swapaxes(0,1)[:,:,np.newaxis], Ld_sw_tes.swapaxes(0,1)[:,:,np.newaxis]"
   ]
  },
  {
   "cell_type": "code",
   "execution_count": null,
   "metadata": {},
   "outputs": [
    {
     "name": "stdout",
     "output_type": "stream",
     "text": [
      "TES starting...\n",
      "NEM starting...\n",
      "NEM Iteration: 1\n",
      "Undecided pixels: 1014450\n",
      "NEM Iteration: 2\n",
      "Undecided pixels: 1014450\n",
      "NEM Iteration: 3\n",
      "Undecided pixels: 1014258\n",
      "NEM Iteration: 4\n",
      "Undecided pixels: 624555\n",
      "NEM Iteration: 5\n",
      "Undecided pixels: 398268\n",
      "NEM Iteration: 6\n",
      "Undecided pixels: 232166\n",
      "NEM Iteration: 7\n",
      "Undecided pixels: 132245\n",
      "NEM Iteration: 8\n",
      "Undecided pixels: 80754\n",
      "NEM Iteration: 9\n",
      "Undecided pixels: 53616\n",
      "NEM Iteration: 10\n",
      "Undecided pixels: 39074\n",
      "NEM Iteration: 11\n",
      "Undecided pixels: 30150\n",
      "NEM Iteration: 12\n",
      "Undecided pixels: 24398\n",
      "NEM Iteration: 13\n",
      "Undecided pixels: 20428\n",
      "All pixels completed\n",
      "NEM starting...\n",
      "NEM Iteration: 1\n",
      "Undecided pixels: 391199\n",
      "NEM Iteration: 2\n",
      "Undecided pixels: 391199\n",
      "NEM Iteration: 3\n",
      "Undecided pixels: 391199\n",
      "NEM Iteration: 4\n",
      "Undecided pixels: 351281\n",
      "NEM Iteration: 5\n",
      "Undecided pixels: 262169\n",
      "NEM Iteration: 6\n",
      "Undecided pixels: 160763\n",
      "NEM Iteration: 7\n",
      "Undecided pixels: 90140\n",
      "NEM Iteration: 8\n",
      "Undecided pixels: 52935\n",
      "NEM Iteration: 9\n",
      "Undecided pixels: 32605\n",
      "NEM Iteration: 10\n",
      "Undecided pixels: 20638\n",
      "NEM Iteration: 11\n",
      "Undecided pixels: 13316\n",
      "NEM Iteration: 12\n",
      "Undecided pixels: 8771\n",
      "NEM Iteration: 13\n",
      "Undecided pixels: 5651\n",
      "All pixels completed\n",
      "RATIO module completed\n",
      "MMD module completed\n",
      "TES completed!\n"
     ]
    }
   ],
   "source": [
    "# if you want to test the role of Lg and Ld, combine Lg_true / Lg_sw_tes and Ld_true / Ld_sw_tes\n",
    "lst_sw_tes, _, qa_sw_tes, _ = tes_calculator(Lg_sw_tes, Ld_sw_tes)\n",
    "lst_sw_tes = lst_sw_tes.squeeze()\n",
    "qa_sw_tes = qa_sw_tes.squeeze()\n",
    "rmse = root_mean_squared_error(lst_true[qa_sw_tes==1], lst_sw_tes[qa_sw_tes==1])\n",
    "bias = np.mean(lst_sw_tes[qa_sw_tes==1] - lst_true[qa_sw_tes==1])\n",
    "\n",
    "# save tes results\n",
    "np.save('result/sw_tes/lst_sw_tes.npy', lst_sw_tes.astype(np.float32))\n",
    "np.save('result/sw_tes/qa_sw_tes.npy', qa_sw_tes.astype(np.float32))\n",
    "savemat('matlab_plot/data/lst_sw_tes.mat', {'lst_true': lst_true[qa_sw_tes==1].astype(np.float32), 'lst_prd': lst_sw_tes[qa_sw_tes==1].astype(np.float32)})"
   ]
  },
  {
   "cell_type": "code",
   "execution_count": null,
   "metadata": {},
   "outputs": [],
   "source": [
    "# calculate RMSE at each tpw and lst bin\n",
    "tpw = np.load('data/simulation_dataset/tpw.npy')[idx_test]\n",
    "tpw = tpw[:, None, None, None] * np.ones((len(idx_test), num_vza, num_lst, num_emi))\n",
    "tpw = tpw.reshape(-1)\n",
    "lst_edges = np.arange(180, 351, 20)\n",
    "nums = np.zeros((7, 9)).astype(int)\n",
    "rmses = np.zeros((7, 9))\n",
    "\n",
    "for i in range(0, 7):\n",
    "    for j in range(9):\n",
    "        if j!=8:\n",
    "            idx_ij = np.where((tpw >= i*10) & (tpw < i*10+10) & (lst_true >= lst_edges[j]) & (lst_true < lst_edges[j+1]))\n",
    "        else:\n",
    "            idx_ij = np.where((tpw >= i*10) & (tpw < i*10+10) & (lst_true >= lst_edges[j]))\n",
    "        \n",
    "        nums[i,j] = len(idx_ij[0])\n",
    "        \n",
    "        lst_ij, lst_prd_ij = lst_true[idx_ij], lst_sw_tes[idx_ij]\n",
    "        qa_ij = qa_sw_tes[idx_ij]\n",
    "\n",
    "        if len(lst_prd_ij[qa_ij==1]) > 0:\n",
    "            rmses[i,j] = root_mean_squared_error(lst_ij[qa_ij==1], lst_prd_ij[qa_ij==1])\n",
    "\n",
    "rmses[rmses==0] = np.nan\n",
    "# savemat('matlab_plot/data/rmse_bins_sw_tes.mat', {'rmses': rmses.astype(np.float32)})"
   ]
  },
  {
   "cell_type": "markdown",
   "metadata": {},
   "source": [
    "# SWDTES (Wang et al., 2024)  \n",
    "## Calibrate coefficients"
   ]
  },
  {
   "cell_type": "code",
   "execution_count": 33,
   "metadata": {},
   "outputs": [],
   "source": [
    "## load simulation dataset\n",
    "# TOA radiances -> TOA BT\n",
    "Lt_simu = np.load('data/simulation_dataset/Lt_simu.npy')[...,[1,3,4]]\n",
    "num_atm, num_vza, num_lst, num_emi, num_channel  = Lt_simu.shape\n",
    "# convert radiance to brightness temperature\n",
    "Tt_simu = Inverse_Planck_law(Lt_simu, lamda_c)\n",
    "\n",
    "# LST and LSE\n",
    "lst = np.load('data/simulation_dataset/skt.npy')\n",
    "lst = lst[:,None,:,None] * np.ones_like(Tt_simu[...,0])\n",
    "emi = np.load('data/simulation_dataset/emi.npy')[..., [1,3,4]]\n",
    "emi = emi[:,None,...] * np.ones_like(Tt_simu)\n",
    "\n",
    "# PWV\n",
    "tpw = np.load('data/simulation_dataset/tpw.npy') # unit: mm\n",
    "tpw = tpw[:,None,None,None] * np.ones_like(lst)\n",
    "\n",
    "# split train and test dataset\n",
    "idx = pickle.load(open('data/simulation_dataset/idx.pkl', 'rb'))\n",
    "idx_train, idx_val, idx_test = idx['train'], idx['val'], idx['test']\n",
    "\n",
    "lst_train, lst_test = lst[idx_train].reshape(-1), lst[idx_test].reshape(-1)"
   ]
  },
  {
   "cell_type": "code",
   "execution_count": 8,
   "metadata": {},
   "outputs": [],
   "source": [
    "# construct input variants\n",
    "T1_T2_2 = (Tt_simu[...,0] - Tt_simu[...,1])**2\n",
    "T1_T3_2 = (Tt_simu[...,0] - Tt_simu[...,2])**2\n",
    "T2_T3_2 = (Tt_simu[...,1] - Tt_simu[...,2])**2\n",
    "w_lse = tpw[..., None] * emi\n",
    "\n",
    "# construct input matrix\n",
    "X_base = np.concatenate([Tt_simu, T1_T2_2[...,None], T1_T3_2[...,None], T2_T3_2[...,None], tpw[...,None]], axis=-1)\n",
    "X1 = np.concatenate([X_base, emi[..., 0:1], w_lse[...,0:1]], axis=-1)\n",
    "X2 = np.concatenate([X_base, emi[..., 1:2], w_lse[...,1:2]], axis=-1)\n",
    "X3 = np.concatenate([X_base, emi[..., 2:3], w_lse[...,2:3]], axis=-1)\n",
    "\n",
    "X1_train, X1_test = X1[idx_train].reshape(-1, X1.shape[-1]), X1[idx_test].reshape(-1, X1.shape[-1])\n",
    "X2_train, X2_test = X2[idx_train].reshape(-1, X1.shape[-1]), X2[idx_test].reshape(-1, X1.shape[-1])\n",
    "X3_train, X3_test = X3[idx_train].reshape(-1, X1.shape[-1]), X3[idx_test].reshape(-1, X1.shape[-1])"
   ]
  },
  {
   "cell_type": "code",
   "execution_count": 9,
   "metadata": {},
   "outputs": [
    {
     "name": "stdout",
     "output_type": "stream",
     "text": [
      "RMSE on trainset: 1.317, 1.192, 1.991\n",
      "RMSE on testset: 1.308, 1.176, 1.965\n"
     ]
    }
   ],
   "source": [
    "## calibrate coefficients of eqs (16)-(18) in Wang et al. (2024)\n",
    "model1, model2, model3 = LinearRegression(), LinearRegression(), LinearRegression()\n",
    "model1.fit(X1_train, lst_train)\n",
    "model2.fit(X2_train, lst_train)\n",
    "model3.fit(X3_train, lst_train)\n",
    "\n",
    "# loss on trainset\n",
    "lst_train_pred1, lst_train_pred2, lst_train_pred3 = model1.predict(X1_train), model2.predict(X2_train), model3.predict(X3_train)\n",
    "rmse_train1, rmse_train2, rmse_train3 = root_mean_squared_error(lst_train, lst_train_pred1), root_mean_squared_error(lst_train, lst_train_pred2), root_mean_squared_error(lst_train, lst_train_pred3)\n",
    "\n",
    "# loss on testset\n",
    "lst_test_pred1, lst_test_pred2, lst_test_pred3 = model1.predict(X1_test), model2.predict(X2_test), model3.predict(X3_test)\n",
    "rmse_test1, rmse_test2, rmse_test3 = root_mean_squared_error(lst_test, lst_test_pred1), root_mean_squared_error(lst_test, lst_test_pred2), root_mean_squared_error(lst_test, lst_test_pred3)\n",
    "\n",
    "print('RMSE on trainset: {:.3f}, {:.3f}, {:.3f}'.format(rmse_train1, rmse_train2, rmse_train3))\n",
    "print('RMSE on testset: {:.3f}, {:.3f}, {:.3f}'.format(rmse_test1, rmse_test2, rmse_test3))\n",
    "\n",
    "# save coefficients\n",
    "coefs = np.zeros((3, 10))\n",
    "coefs[0, 0] = model1.intercept_\n",
    "coefs[0, 1:] = model1.coef_\n",
    "coefs[1, 0] = model2.intercept_\n",
    "coefs[1, 1:] = model2.coef_\n",
    "coefs[2, 0] = model3.intercept_\n",
    "coefs[2, 1:] = model3.coef_\n",
    "\n",
    "# np.save('result/swdtes/coefs_swdtes.npy', coefs)"
   ]
  },
  {
   "cell_type": "markdown",
   "metadata": {},
   "source": [
    "## Apply SWDTES on the simulated test set"
   ]
  },
  {
   "cell_type": "code",
   "execution_count": null,
   "metadata": {},
   "outputs": [
    {
     "name": "stdout",
     "output_type": "stream",
     "text": [
      "SWDTES starting...\n",
      "NEM Iteration: 1\n",
      "Undecided pixels: 1014450\n",
      "NEM Iteration: 2\n",
      "Undecided pixels: 1012893\n",
      "NEM Iteration: 3\n",
      "Undecided pixels: 877031\n",
      "NEM Iteration: 4\n",
      "Undecided pixels: 538825\n",
      "NEM Iteration: 5\n",
      "Undecided pixels: 356281\n",
      "NEM Iteration: 6\n",
      "Undecided pixels: 222631\n",
      "NEM Iteration: 7\n",
      "Undecided pixels: 151418\n",
      "NEM Iteration: 8\n",
      "Undecided pixels: 106555\n",
      "NEM Iteration: 9\n",
      "Undecided pixels: 80322\n",
      "NEM Iteration: 10\n",
      "Undecided pixels: 62524\n",
      "NEM Iteration: 11\n",
      "Undecided pixels: 51291\n",
      "NEM Iteration: 12\n",
      "Undecided pixels: 42030\n",
      "NEM Iteration: 13\n",
      "Undecided pixels: 35729\n",
      "All pixels completed\n",
      "NEM Iteration: 1\n",
      "Undecided pixels: 284896\n",
      "NEM Iteration: 2\n",
      "Undecided pixels: 284774\n",
      "NEM Iteration: 3\n",
      "Undecided pixels: 274607\n",
      "NEM Iteration: 4\n",
      "Undecided pixels: 176696\n",
      "NEM Iteration: 5\n",
      "Undecided pixels: 105690\n",
      "NEM Iteration: 6\n",
      "Undecided pixels: 72714\n",
      "NEM Iteration: 7\n",
      "Undecided pixels: 48342\n",
      "NEM Iteration: 8\n",
      "Undecided pixels: 30674\n",
      "NEM Iteration: 9\n",
      "Undecided pixels: 19464\n",
      "NEM Iteration: 10\n",
      "Undecided pixels: 12087\n",
      "NEM Iteration: 11\n",
      "Undecided pixels: 6497\n",
      "NEM Iteration: 12\n",
      "Undecided pixels: 2975\n",
      "NEM Iteration: 13\n",
      "Undecided pixels: 717\n",
      "All pixels completed\n",
      "RATIO module completed\n"
     ]
    }
   ],
   "source": [
    "## load simulation dataset\n",
    "Tt_test = Tt_simu[idx_test].reshape(-1, 3)\n",
    "tpw_test = tpw[idx_test].reshape(-1)\n",
    "\n",
    "lst_swdtes, emi_swdtes, qa_swdtes = swdtes_calculator(Tt_test[:,0:1], Tt_test[:,1:2], Tt_test[:,2:3], tpw_test[:,None], t1=0.05)\n",
    "lst_swdtes, emi_swdtes, qa_swdtes = lst_swdtes.squeeze(), emi_swdtes.squeeze(), qa_swdtes.squeeze()\n",
    "\n",
    "np.save('result/swdtes/lst_swdtes.npy', lst_swdtes.astype(np.float32))\n",
    "np.save('result/swdtes/qa_swdtes.npy', qa_swdtes.astype(np.int8))\n",
    "savemat('matlab_plot/data/lst_swdtes.mat', {'lst_prd': lst_swdtes[qa_swdtes==1].astype(np.float32), 'lst_true': lst_test[qa_swdtes==1].astype(np.float32)})"
   ]
  },
  {
   "cell_type": "code",
   "execution_count": null,
   "metadata": {},
   "outputs": [],
   "source": [
    "# calculate RMSE at each tpw and lst bin\n",
    "lst_edges = np.arange(180, 351, 20)\n",
    "\n",
    "nums = np.zeros((7, 9)).astype(int)\n",
    "rmses = np.zeros((7, 9))\n",
    "\n",
    "for i in range(0, 7):\n",
    "    for j in range(9):\n",
    "        if j!=8:\n",
    "            idx_ij = np.where((tpw_test >= i*10) & (tpw_test < i*10+10) & (lst_test >= lst_edges[j]) & (lst_test < lst_edges[j+1]))\n",
    "        else:\n",
    "            idx_ij = np.where((tpw_test >= i*10) & (tpw_test < i*10+10) & (lst_test >= lst_edges[j]))\n",
    "        \n",
    "        nums[i,j] = len(idx_ij[0])\n",
    "        \n",
    "        lst_ij, lst_prd_ij = lst_test[idx_ij], lst_swdtes[idx_ij]\n",
    "        qa_ij = qa_swdtes[idx_ij]\n",
    "\n",
    "        if len(lst_prd_ij[qa_ij==1]) > 0:\n",
    "            rmses[i,j] = root_mean_squared_error(lst_ij[qa_ij==1], lst_prd_ij[qa_ij==1])\n",
    "\n",
    "rmses[rmses==0] = np.nan\n",
    "savemat('matlab_plot/data/rmse_bins_swdtes.mat', {'rmses': rmses.astype(np.float32)})"
   ]
  }
 ],
 "metadata": {
  "kernelspec": {
   "display_name": "deep_learning",
   "language": "python",
   "name": "python3"
  },
  "language_info": {
   "codemirror_mode": {
    "name": "ipython",
    "version": 3
   },
   "file_extension": ".py",
   "mimetype": "text/x-python",
   "name": "python",
   "nbconvert_exporter": "python",
   "pygments_lexer": "ipython3",
   "version": "3.10.13"
  }
 },
 "nbformat": 4,
 "nbformat_minor": 2
}
